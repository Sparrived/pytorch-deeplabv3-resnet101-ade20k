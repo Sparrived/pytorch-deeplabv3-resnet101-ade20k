{
 "cells": [
  {
   "cell_type": "markdown",
   "metadata": {},
   "source": [
    "# 使用 Pytorch 以 ADE20K 训练集训练 DeepLabV3Plus-RESNET101\n",
    "\n",
    "## 1. 基础准备\n",
    "\n",
    "### 1.1 （第一次或在虚拟环境运行）安装相关库\n"
   ]
  },
  {
   "cell_type": "code",
   "execution_count": 3,
   "metadata": {},
   "outputs": [
    {
     "name": "stdout",
     "output_type": "stream",
     "text": [
      "Looking in indexes: https://pypi.tuna.tsinghua.edu.cn/simple\n",
      "Requirement already satisfied: torch in c:\\users\\sparr\\desktop\\pytorch-deeplabv3plus-resnet101-ade20k\\.venv\\lib\\site-packages (2.3.1)\n",
      "Requirement already satisfied: torchvision in c:\\users\\sparr\\desktop\\pytorch-deeplabv3plus-resnet101-ade20k\\.venv\\lib\\site-packages (0.18.1)\n",
      "Requirement already satisfied: jinja2 in c:\\users\\sparr\\desktop\\pytorch-deeplabv3plus-resnet101-ade20k\\.venv\\lib\\site-packages (from torch) (3.1.4)\n",
      "Requirement already satisfied: fsspec in c:\\users\\sparr\\desktop\\pytorch-deeplabv3plus-resnet101-ade20k\\.venv\\lib\\site-packages (from torch) (2024.6.1)\n",
      "Requirement already satisfied: networkx in c:\\users\\sparr\\desktop\\pytorch-deeplabv3plus-resnet101-ade20k\\.venv\\lib\\site-packages (from torch) (3.3)\n",
      "Requirement already satisfied: sympy in c:\\users\\sparr\\desktop\\pytorch-deeplabv3plus-resnet101-ade20k\\.venv\\lib\\site-packages (from torch) (1.13.1)\n",
      "Requirement already satisfied: typing-extensions>=4.8.0 in c:\\users\\sparr\\desktop\\pytorch-deeplabv3plus-resnet101-ade20k\\.venv\\lib\\site-packages (from torch) (4.12.2)\n",
      "Requirement already satisfied: mkl<=2021.4.0,>=2021.1.1 in c:\\users\\sparr\\desktop\\pytorch-deeplabv3plus-resnet101-ade20k\\.venv\\lib\\site-packages (from torch) (2021.4.0)\n",
      "Requirement already satisfied: filelock in c:\\users\\sparr\\desktop\\pytorch-deeplabv3plus-resnet101-ade20k\\.venv\\lib\\site-packages (from torch) (3.15.4)\n",
      "Requirement already satisfied: pillow!=8.3.*,>=5.3.0 in c:\\users\\sparr\\desktop\\pytorch-deeplabv3plus-resnet101-ade20k\\.venv\\lib\\site-packages (from torchvision) (10.4.0)\n",
      "Requirement already satisfied: numpy in c:\\users\\sparr\\desktop\\pytorch-deeplabv3plus-resnet101-ade20k\\.venv\\lib\\site-packages (from torchvision) (2.0.1)\n",
      "Requirement already satisfied: tbb==2021.* in c:\\users\\sparr\\desktop\\pytorch-deeplabv3plus-resnet101-ade20k\\.venv\\lib\\site-packages (from mkl<=2021.4.0,>=2021.1.1->torch) (2021.13.0)\n",
      "Requirement already satisfied: intel-openmp==2021.* in c:\\users\\sparr\\desktop\\pytorch-deeplabv3plus-resnet101-ade20k\\.venv\\lib\\site-packages (from mkl<=2021.4.0,>=2021.1.1->torch) (2021.4.0)\n",
      "Requirement already satisfied: MarkupSafe>=2.0 in c:\\users\\sparr\\desktop\\pytorch-deeplabv3plus-resnet101-ade20k\\.venv\\lib\\site-packages (from jinja2->torch) (2.1.5)\n",
      "Requirement already satisfied: mpmath<1.4,>=1.1.0 in c:\\users\\sparr\\desktop\\pytorch-deeplabv3plus-resnet101-ade20k\\.venv\\lib\\site-packages (from sympy->torch) (1.3.0)\n",
      "Note: you may need to restart the kernel to use updated packages.\n"
     ]
    },
    {
     "name": "stderr",
     "output_type": "stream",
     "text": [
      "\n",
      "[notice] A new release of pip available: 22.3.1 -> 24.1.2\n",
      "[notice] To update, run: python.exe -m pip install --upgrade pip\n"
     ]
    },
    {
     "name": "stdout",
     "output_type": "stream",
     "text": [
      "Note: you may need to restart the kernel to use updated packages.Looking in indexes: https://pypi.tuna.tsinghua.edu.cn/simple\n",
      "Requirement already satisfied: opencv-python in c:\\users\\sparr\\desktop\\pytorch-deeplabv3plus-resnet101-ade20k\\.venv\\lib\\site-packages (4.10.0.84)\n",
      "Requirement already satisfied: numpy>=1.21.2 in c:\\users\\sparr\\desktop\\pytorch-deeplabv3plus-resnet101-ade20k\\.venv\\lib\\site-packages (from opencv-python) (2.0.1)\n",
      "\n"
     ]
    },
    {
     "name": "stderr",
     "output_type": "stream",
     "text": [
      "\n",
      "[notice] A new release of pip available: 22.3.1 -> 24.1.2\n",
      "[notice] To update, run: python.exe -m pip install --upgrade pip\n"
     ]
    },
    {
     "name": "stdout",
     "output_type": "stream",
     "text": [
      "Looking in indexes: https://pypi.tuna.tsinghua.edu.cn/simple\n",
      "Requirement already satisfied: matplotlib in c:\\users\\sparr\\desktop\\pytorch-deeplabv3plus-resnet101-ade20k\\.venv\\lib\\site-packages (3.9.1)\n",
      "Requirement already satisfied: fonttools>=4.22.0 in c:\\users\\sparr\\desktop\\pytorch-deeplabv3plus-resnet101-ade20k\\.venv\\lib\\site-packages (from matplotlib) (4.53.1)\n",
      "Requirement already satisfied: packaging>=20.0 in c:\\users\\sparr\\desktop\\pytorch-deeplabv3plus-resnet101-ade20k\\.venv\\lib\\site-packages (from matplotlib) (24.1)\n",
      "Requirement already satisfied: cycler>=0.10 in c:\\users\\sparr\\desktop\\pytorch-deeplabv3plus-resnet101-ade20k\\.venv\\lib\\site-packages (from matplotlib) (0.12.1)\n",
      "Requirement already satisfied: pillow>=8 in c:\\users\\sparr\\desktop\\pytorch-deeplabv3plus-resnet101-ade20k\\.venv\\lib\\site-packages (from matplotlib) (10.4.0)\n",
      "Requirement already satisfied: python-dateutil>=2.7 in c:\\users\\sparr\\desktop\\pytorch-deeplabv3plus-resnet101-ade20k\\.venv\\lib\\site-packages (from matplotlib) (2.9.0.post0)\n",
      "Requirement already satisfied: pyparsing>=2.3.1 in c:\\users\\sparr\\desktop\\pytorch-deeplabv3plus-resnet101-ade20k\\.venv\\lib\\site-packages (from matplotlib) (3.1.2)\n",
      "Requirement already satisfied: contourpy>=1.0.1 in c:\\users\\sparr\\desktop\\pytorch-deeplabv3plus-resnet101-ade20k\\.venv\\lib\\site-packages (from matplotlib) (1.2.1)\n",
      "Requirement already satisfied: numpy>=1.23 in c:\\users\\sparr\\desktop\\pytorch-deeplabv3plus-resnet101-ade20k\\.venv\\lib\\site-packages (from matplotlib) (2.0.1)\n",
      "Requirement already satisfied: kiwisolver>=1.3.1 in c:\\users\\sparr\\desktop\\pytorch-deeplabv3plus-resnet101-ade20k\\.venv\\lib\\site-packages (from matplotlib) (1.4.5)\n",
      "Requirement already satisfied: six>=1.5 in c:\\users\\sparr\\desktop\\pytorch-deeplabv3plus-resnet101-ade20k\\.venv\\lib\\site-packages (from python-dateutil>=2.7->matplotlib) (1.16.0)\n",
      "Note: you may need to restart the kernel to use updated packages.\n"
     ]
    },
    {
     "name": "stderr",
     "output_type": "stream",
     "text": [
      "\n",
      "[notice] A new release of pip available: 22.3.1 -> 24.1.2\n",
      "[notice] To update, run: python.exe -m pip install --upgrade pip\n"
     ]
    },
    {
     "name": "stdout",
     "output_type": "stream",
     "text": [
      "^C\n",
      "Note: you may need to restart the kernel to use updated packages.\n",
      "Note: you may need to restart the kernel to use updated packages.\n"
     ]
    },
    {
     "name": "stderr",
     "output_type": "stream",
     "text": [
      "ϵͳ�Ҳ���ָ�����ļ���\n"
     ]
    }
   ],
   "source": [
    "%pip install numpy<2.0\n",
    "%pip install torch torchvision torchaudio --index-url https://download.pytorch.org/whl/cu121\n",
    "%pip install opencv-python\n",
    "%pip install matplotlib\n",
    "%pip install tqdm"
   ]
  },
  {
   "cell_type": "markdown",
   "metadata": {},
   "source": [
    "### 1.2 检查 CUDA 版本\n"
   ]
  },
  {
   "cell_type": "code",
   "execution_count": 7,
   "metadata": {},
   "outputs": [
    {
     "name": "stdout",
     "output_type": "stream",
     "text": [
      "Mon Jul 22 22:19:22 2024       \n",
      "+---------------------------------------------------------------------------------------+\n",
      "| NVIDIA-SMI 546.80                 Driver Version: 546.80       CUDA Version: 12.3     |\n",
      "|-----------------------------------------+----------------------+----------------------+\n",
      "| GPU  Name                     TCC/WDDM  | Bus-Id        Disp.A | Volatile Uncorr. ECC |\n",
      "| Fan  Temp   Perf          Pwr:Usage/Cap |         Memory-Usage | GPU-Util  Compute M. |\n",
      "|                                         |                      |               MIG M. |\n",
      "|=========================================+======================+======================|\n",
      "|   0  NVIDIA GeForce RTX 3060 ...  WDDM  | 00000000:01:00.0 Off |                  N/A |\n",
      "| N/A   49C    P8               9W / 140W |     90MiB /  6144MiB |      0%      Default |\n",
      "|                                         |                      |                  N/A |\n",
      "+-----------------------------------------+----------------------+----------------------+\n",
      "                                                                                         \n",
      "+---------------------------------------------------------------------------------------+\n",
      "| Processes:                                                                            |\n",
      "|  GPU   GI   CI        PID   Type   Process name                            GPU Memory |\n",
      "|        ID   ID                                                             Usage      |\n",
      "|=======================================================================================|\n",
      "|    0   N/A  N/A      1908    C+G   C:\\Program Files\\Tencent\\QQNT\\QQ.exe      N/A      |\n",
      "+---------------------------------------------------------------------------------------+\n"
     ]
    }
   ],
   "source": [
    "!nvidia-smi"
   ]
  },
  {
   "cell_type": "markdown",
   "metadata": {},
   "source": [
    "## 2. 搭建模型\n",
    "\n",
    "### 2.1 导入相关库\n"
   ]
  },
  {
   "cell_type": "code",
   "execution_count": 1,
   "metadata": {},
   "outputs": [],
   "source": [
    "import os\n",
    "import numpy as np\n",
    "import torch\n",
    "from torch.utils.data import Dataset\n",
    "from PIL import Image\n",
    "import torchvision.transforms as transforms\n",
    "import torchvision.models.segmentation as models\n",
    "from pathlib import Path\n",
    "from tqdm import tqdm"
   ]
  },
  {
   "cell_type": "markdown",
   "metadata": {},
   "source": [
    "### 2.2 定义数据集类\n",
    "\n",
    "数据集可在 [ADE20K](http://data.csail.mit.edu/places/ADEchallenge/ADEChallengeData2016.zip) 下载\n"
   ]
  },
  {
   "cell_type": "code",
   "execution_count": 2,
   "metadata": {},
   "outputs": [],
   "source": [
    "DATASETPATH = Path(\"dataset/ade20k/ADEChallengeData2016\")  # 数据集位置\n",
    "\n",
    "class ADE20kDataset(Dataset):\n",
    "    def __init__(self, transforms=None):\n",
    "        self.transforms = transforms\n",
    "        self.images = sorted(os.listdir(os.path.join(DATASETPATH, \"images\", \"training\")))\n",
    "        self.masks = sorted(os.listdir(os.path.join(DATASETPATH, \"annotations\", \"training\")))\n",
    "\n",
    "    def __len__(self):\n",
    "        return len(self.images)\n",
    "\n",
    "    def __getitem__(self, idx):\n",
    "        img_path = os.path.join(DATASETPATH, \"images\", \"training\", self.images[idx])\n",
    "        mask_path = os.path.join(DATASETPATH, \"annotations\", \"training\", self.masks[idx])\n",
    "\n",
    "        image = Image.open(img_path).convert(\"RGB\")\n",
    "        mask = Image.open(mask_path)\n",
    "\n",
    "        if self.transforms:\n",
    "            image = self.transforms(image)\n",
    "            mask = self.transforms(mask)\n",
    "\n",
    "        return image, mask"
   ]
  },
  {
   "cell_type": "markdown",
   "metadata": {},
   "source": [
    "### 2.3 数据预处理和加载\n"
   ]
  },
  {
   "cell_type": "code",
   "execution_count": 7,
   "metadata": {},
   "outputs": [],
   "source": [
    "data_transforms = transforms.Compose([\n",
    "    transforms.ToTensor(),\n",
    "    transforms.Normalize(mean=[0.485, 0.456, 0.406], std=[0.229, 0.224, 0.225])\n",
    "])\n",
    "\n",
    "train_dataset = ADE20kDataset(transforms=data_transforms)\n",
    "train_loader = torch.utils.data.DataLoader(train_dataset, batch_size=4, shuffle=True, num_workers=4)"
   ]
  },
  {
   "cell_type": "markdown",
   "metadata": {},
   "source": [
    "### 2.4 模型预加载\n",
    "\n",
    "此处模型使用 Pytorch 中的 DeepLabV3Plus 模型\n"
   ]
  },
  {
   "cell_type": "code",
   "execution_count": 5,
   "metadata": {},
   "outputs": [
    {
     "name": "stderr",
     "output_type": "stream",
     "text": [
      "c:\\Users\\Sparr\\Desktop\\pytorch-deeplabv3plus-resnet101-ade20k\\.venv\\lib\\site-packages\\torchvision\\models\\_utils.py:208: UserWarning: The parameter 'pretrained' is deprecated since 0.13 and may be removed in the future, please use 'weights' instead.\n",
      "  warnings.warn(\n",
      "c:\\Users\\Sparr\\Desktop\\pytorch-deeplabv3plus-resnet101-ade20k\\.venv\\lib\\site-packages\\torchvision\\models\\_utils.py:223: UserWarning: Arguments other than a weight enum or `None` for 'weights' are deprecated since 0.13 and may be removed in the future. The current behavior is equivalent to passing `weights=None`.\n",
      "  warnings.warn(msg)\n"
     ]
    }
   ],
   "source": [
    "model = models.deeplabv3_resnet101(pretrained=False, num_classes=151) \n",
    "\n",
    "# 转移到cuda\n",
    "device = torch.device('cuda' if torch.cuda.is_available() else 'cpu')\n",
    "# device = torch.device('cuda')\n",
    "model = model.to(device)"
   ]
  },
  {
   "cell_type": "markdown",
   "metadata": {},
   "source": [
    "### 2.5 训练模型\n"
   ]
  },
  {
   "cell_type": "code",
   "execution_count": 8,
   "metadata": {},
   "outputs": [
    {
     "name": "stderr",
     "output_type": "stream",
     "text": [
      "  0%|          | 0/5053 [00:00<?, ?it/s]"
     ]
    }
   ],
   "source": [
    "import torch.optim as optim\n",
    "import torch.nn as nn\n",
    "\n",
    "criterion = nn.CrossEntropyLoss()\n",
    "optimizer = optim.Adam(model.parameters(), lr=0.05)\n",
    "\n",
    "num_epochs = 20\n",
    "\n",
    "for epoch in range(num_epochs):\n",
    "    model.train()\n",
    "    running_loss = 0.0\n",
    "\n",
    "    for images, masks in tqdm(train_loader):\n",
    "        images = images.to(device)\n",
    "        masks = masks.to(device)\n",
    "\n",
    "        optimizer.zero_grad()\n",
    "        outputs = model(images)['out']\n",
    "        loss = criterion(outputs, masks.long())\n",
    "        loss.backward()\n",
    "        optimizer.step()\n",
    "\n",
    "        running_loss += loss.item()\n",
    "\n",
    "    print(f\"Epoch [{epoch+1}/{num_epochs}], Loss: {running_loss/len(train_loader):.4f}\")\n",
    "\n",
    "print('Training complete')"
   ]
  }
 ],
 "metadata": {
  "kernelspec": {
   "display_name": ".venv",
   "language": "python",
   "name": "python3"
  },
  "language_info": {
   "codemirror_mode": {
    "name": "ipython",
    "version": 3
   },
   "file_extension": ".py",
   "mimetype": "text/x-python",
   "name": "python",
   "nbconvert_exporter": "python",
   "pygments_lexer": "ipython3",
   "version": "3.10.10"
  }
 },
 "nbformat": 4,
 "nbformat_minor": 2
}
